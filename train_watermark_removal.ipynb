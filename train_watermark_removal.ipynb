{
 "cells": [
  {
   "cell_type": "markdown",
   "id": "fa54fc82",
   "metadata": {},
   "source": [
    "<a href=\"https://colab.research.google.com/github/joppii/watermark/blob/main/train_watermark_removal.ipynb\" target=\"_parent\"><img src=\"https://colab.research.google.com/assets/colab-badge.svg\" alt=\"Open In Colab\"/></a>"
   ]
  },
  {
   "cell_type": "markdown",
   "id": "a9914a6d",
   "metadata": {},
   "source": [
    "# 🎨 AI Watermark Removal - Training on Google Colab\n",
    "\n",
    "このノートブックでは、Google Colaboratoryでウォーターマーク除去モデルをGPUで高速学習できます。\n",
    "\n",
    "## 📋 実行前の準備\n",
    "\n",
    "1. **GPU を有効化**: ランタイム → ランタイムのタイプを変更 → T4 GPU を選択\n",
    "2. **Google Drive をマウント**: 学習データとモデルの保存用\n",
    "3. **学習データの準備**: Drive に画像をアップロード"
   ]
  },
  {
   "cell_type": "markdown",
   "id": "56058a65",
   "metadata": {},
   "source": [
    "## 🔧 Step 1: 環境セットアップ"
   ]
  },
  {
   "cell_type": "code",
   "execution_count": null,
   "id": "598c00c9",
   "metadata": {},
   "outputs": [],
   "source": [
    "# Google Drive をマウント\n",
    "from google.colab import drive\n",
    "drive.mount('/content/drive')"
   ]
  },
  {
   "cell_type": "code",
   "execution_count": null,
   "id": "b2a9180b",
   "metadata": {},
   "outputs": [],
   "source": [
    "# リポジトリをクローン\n",
    "!git clone https://github.com/joppii/watermark.git\n",
    "%cd watermark"
   ]
  },
  {
   "cell_type": "code",
   "execution_count": null,
   "id": "28dfd54a",
   "metadata": {},
   "outputs": [],
   "source": [
    "# 依存関係をインストール\n",
    "!pip install -q torch torchvision numpy opencv-python Pillow scikit-image scipy tqdm tensorboard PyYAML colorama"
   ]
  },
  {
   "cell_type": "code",
   "execution_count": null,
   "id": "c0fc6268",
   "metadata": {},
   "outputs": [],
   "source": [
    "# GPU確認\n",
    "import torch\n",
    "print(f\"PyTorch version: {torch.__version__}\")\n",
    "print(f\"CUDA available: {torch.cuda.is_available()}\")\n",
    "if torch.cuda.is_available():\n",
    "    print(f\"GPU: {torch.cuda.get_device_name(0)}\")\n",
    "    print(f\"GPU Memory: {torch.cuda.get_device_properties(0).total_memory / 1024**3:.2f} GB\")"
   ]
  },
  {
   "cell_type": "markdown",
   "id": "f301dd01",
   "metadata": {},
   "source": [
    "## 📁 Step 2: データ準備\n",
    "\n",
    "### オプション A: Google Drive から画像を使用"
   ]
  },
  {
   "cell_type": "code",
   "execution_count": null,
   "id": "d2df2e94",
   "metadata": {},
   "outputs": [],
   "source": [
    "# データディレクトリの設定\n",
    "import os\n",
    "\n",
    "# Google Drive内のパスを指定（あなたの環境に合わせて変更）\n",
    "DRIVE_DATA_DIR = \"/content/drive/MyDrive/watermark_data\"\n",
    "DRIVE_OUTPUT_DIR = \"/content/drive/MyDrive/watermark_models\"\n",
    "\n",
    "# ローカル作業ディレクトリ\n",
    "LOCAL_DATA_DIR = \"/content/watermark/data\"\n",
    "\n",
    "# ディレクトリ作成\n",
    "!mkdir -p {DRIVE_DATA_DIR}/original\n",
    "!mkdir -p {DRIVE_DATA_DIR}/watermarks\n",
    "!mkdir -p {DRIVE_OUTPUT_DIR}\n",
    "!mkdir -p {LOCAL_DATA_DIR}\n",
    "\n",
    "print(\"✓ ディレクトリ作成完了\")\n",
    "print(f\"\\n📂 Google Drive データフォルダ: {DRIVE_DATA_DIR}\")\n",
    "print(f\"💾 モデル保存先: {DRIVE_OUTPUT_DIR}\")\n",
    "print(f\"\\n⚠️ {DRIVE_DATA_DIR}/original/ に学習用のクリーン画像をアップロードしてください\")"
   ]
  },
  {
   "cell_type": "markdown",
   "id": "2da43c3b",
   "metadata": {},
   "source": [
    "### オプション B: サンプルデータセットをダウンロード（テスト用）"
   ]
  },
  {
   "cell_type": "code",
   "execution_count": null,
   "id": "84f002d8",
   "metadata": {},
   "outputs": [],
   "source": [
    "# サンプル画像をダウンロード（テスト用）\n",
    "# 実際の学習には、自分の画像を使用することを推奨\n",
    "\n",
    "!mkdir -p data/original\n",
    "\n",
    "# 例: Unsplash から画像をダウンロード（実際には自分のデータセットを使用）\n",
    "# !wget -O data/original/sample1.jpg \"https://source.unsplash.com/random/800x600?nature\"\n",
    "# !wget -O data/original/sample2.jpg \"https://source.unsplash.com/random/800x600?city\"\n",
    "# ... さらに画像を追加\n",
    "\n",
    "print(\"⚠️ このセルはコメントアウトされています\")\n",
    "print(\"実際には、Google Drive に画像をアップロードするか、\")\n",
    "print(\"データセットをダウンロードするコマンドを追加してください\")"
   ]
  },
  {
   "cell_type": "markdown",
   "id": "357935aa",
   "metadata": {},
   "source": [
    "## 🎨 Step 3: ウォーターマーク作成"
   ]
  },
  {
   "cell_type": "code",
   "execution_count": null,
   "id": "c9f5ed50",
   "metadata": {},
   "outputs": [],
   "source": [
    "# テキストウォーターマークを作成\n",
    "!python src/prepare_data.py text \\\n",
    "  -t \"SAMPLE\" \\\n",
    "  -o {DRIVE_DATA_DIR}/watermarks/sample \\\n",
    "  -n 20\n",
    "\n",
    "!python src/prepare_data.py text \\\n",
    "  -t \"COPYRIGHT\" \\\n",
    "  -o {DRIVE_DATA_DIR}/watermarks/copyright \\\n",
    "  -n 20\n",
    "\n",
    "!python src/prepare_data.py text \\\n",
    "  -t \"WATERMARK\" \\\n",
    "  -o {DRIVE_DATA_DIR}/watermarks/watermark \\\n",
    "  -n 20"
   ]
  },
  {
   "cell_type": "code",
   "execution_count": null,
   "id": "573bc82b",
   "metadata": {},
   "outputs": [],
   "source": [
    "# 作成されたウォーターマークを確認\n",
    "import glob\n",
    "from PIL import Image\n",
    "import matplotlib.pyplot as plt\n",
    "\n",
    "watermark_files = glob.glob(f\"{DRIVE_DATA_DIR}/watermarks/*/*.png\")[:5]\n",
    "\n",
    "if watermark_files:\n",
    "    fig, axes = plt.subplots(1, len(watermark_files), figsize=(15, 3))\n",
    "    for idx, wm_file in enumerate(watermark_files):\n",
    "        img = Image.open(wm_file)\n",
    "        if len(watermark_files) == 1:\n",
    "            axes.imshow(img)\n",
    "            axes.set_title(f\"Watermark {idx+1}\")\n",
    "            axes.axis('off')\n",
    "        else:\n",
    "            axes[idx].imshow(img)\n",
    "            axes[idx].set_title(f\"Watermark {idx+1}\")\n",
    "            axes[idx].axis('off')\n",
    "    plt.tight_layout()\n",
    "    plt.show()\n",
    "    print(f\"✓ {len(glob.glob(f'{DRIVE_DATA_DIR}/watermarks/*/*.png'))} 個のウォーターマークを作成\")\n",
    "else:\n",
    "    print(\"⚠️ ウォーターマークが見つかりません\")"
   ]
  },
  {
   "cell_type": "markdown",
   "id": "94b2412a",
   "metadata": {},
   "source": [
    "## 🔄 Step 4: 学習データセット生成"
   ]
  },
  {
   "cell_type": "code",
   "execution_count": null,
   "id": "6f639fed",
   "metadata": {},
   "outputs": [],
   "source": [
    "# 合成ウォーターマークデータセットを作成\n",
    "!python src/prepare_data.py synthetic \\\n",
    "  -i {DRIVE_DATA_DIR}/original \\\n",
    "  --output-clean {LOCAL_DATA_DIR}/train/clean \\\n",
    "  --output-watermarked {LOCAL_DATA_DIR}/train/watermarked \\\n",
    "  -w {DRIVE_DATA_DIR}/watermarks/*/*.png \\\n",
    "  -n 3\n",
    "\n",
    "print(\"\\n✓ データセット生成完了\")"
   ]
  },
  {
   "cell_type": "code",
   "execution_count": null,
   "id": "3426c66d",
   "metadata": {},
   "outputs": [],
   "source": [
    "# データセットのプレビュー\n",
    "import cv2\n",
    "import numpy as np\n",
    "\n",
    "clean_files = sorted(glob.glob(f\"{LOCAL_DATA_DIR}/train/clean/*.png\"))[:3]\n",
    "watermarked_files = sorted(glob.glob(f\"{LOCAL_DATA_DIR}/train/watermarked/*.png\"))[:3]\n",
    "\n",
    "if clean_files and watermarked_files:\n",
    "    fig, axes = plt.subplots(2, 3, figsize=(15, 10))\n",
    "    \n",
    "    for idx in range(min(3, len(clean_files))):\n",
    "        # Clean image\n",
    "        clean_img = cv2.imread(clean_files[idx])\n",
    "        clean_img = cv2.cvtColor(clean_img, cv2.COLOR_BGR2RGB)\n",
    "        axes[0, idx].imshow(clean_img)\n",
    "        axes[0, idx].set_title(f\"Clean {idx+1}\")\n",
    "        axes[0, idx].axis('off')\n",
    "        \n",
    "        # Watermarked image\n",
    "        wm_img = cv2.imread(watermarked_files[idx])\n",
    "        wm_img = cv2.cvtColor(wm_img, cv2.COLOR_BGR2RGB)\n",
    "        axes[1, idx].imshow(wm_img)\n",
    "        axes[1, idx].set_title(f\"Watermarked {idx+1}\")\n",
    "        axes[1, idx].axis('off')\n",
    "    \n",
    "    plt.tight_layout()\n",
    "    plt.show()\n",
    "    \n",
    "    print(f\"\\n📊 データセット統計:\")\n",
    "    print(f\"クリーン画像: {len(glob.glob(f'{LOCAL_DATA_DIR}/train/clean/*.png'))} 枚\")\n",
    "    print(f\"ウォーターマーク付き画像: {len(glob.glob(f'{LOCAL_DATA_DIR}/train/watermarked/*.png'))} 枚\")\n",
    "else:\n",
    "    print(\"⚠️ データが見つかりません。Step 4を再実行してください。\")"
   ]
  },
  {
   "cell_type": "markdown",
   "id": "c4bc4846",
   "metadata": {},
   "source": [
    "## 🏋️ Step 5: モデル学習\n",
    "\n",
    "### 学習パラメータの設定"
   ]
  },
  {
   "cell_type": "code",
   "execution_count": null,
   "id": "dff3c1ff",
   "metadata": {},
   "outputs": [],
   "source": [
    "# 学習パラメータ\n",
    "EPOCHS = 50          # エポック数（テスト: 20-50, 本番: 100-200）\n",
    "BATCH_SIZE = 8       # バッチサイズ（GPU T4: 8-16が推奨）\n",
    "LEARNING_RATE = 0.0001\n",
    "\n",
    "print(f\"学習設定:\")\n",
    "print(f\"  エポック数: {EPOCHS}\")\n",
    "print(f\"  バッチサイズ: {BATCH_SIZE}\")\n",
    "print(f\"  学習率: {LEARNING_RATE}\")"
   ]
  },
  {
   "cell_type": "code",
   "execution_count": null,
   "id": "3d76ec08",
   "metadata": {},
   "outputs": [],
   "source": [
    "# 学習開始\n",
    "!python src/train.py \\\n",
    "  --clean-dir {LOCAL_DATA_DIR}/train/clean \\\n",
    "  --watermarked-dir {LOCAL_DATA_DIR}/train/watermarked \\\n",
    "  --epochs {EPOCHS} \\\n",
    "  --batch-size {BATCH_SIZE} \\\n",
    "  --val-split 0.1"
   ]
  },
  {
   "cell_type": "markdown",
   "id": "d2abfb6c",
   "metadata": {},
   "source": [
    "## 📊 Step 6: TensorBoard で学習状況を確認"
   ]
  },
  {
   "cell_type": "code",
   "execution_count": null,
   "id": "80a3cc25",
   "metadata": {},
   "outputs": [],
   "source": [
    "# TensorBoard を起動\n",
    "%load_ext tensorboard\n",
    "%tensorboard --logdir runs/watermark_removal"
   ]
  },
  {
   "cell_type": "markdown",
   "id": "c68fbf61",
   "metadata": {},
   "source": [
    "## 💾 Step 7: モデルを Google Drive に保存"
   ]
  },
  {
   "cell_type": "code",
   "execution_count": null,
   "id": "367c5585",
   "metadata": {},
   "outputs": [],
   "source": [
    "# 学習済みモデルを Google Drive にコピー\n",
    "import shutil\n",
    "from pathlib import Path\n",
    "\n",
    "model_dir = Path(\"models/pretrained\")\n",
    "if model_dir.exists():\n",
    "    # 最新のチェックポイントを取得\n",
    "    checkpoints = sorted(model_dir.glob(\"*.pth\"))\n",
    "    \n",
    "    if checkpoints:\n",
    "        for checkpoint in checkpoints:\n",
    "            dest = Path(DRIVE_OUTPUT_DIR) / checkpoint.name\n",
    "            shutil.copy(checkpoint, dest)\n",
    "            print(f\"✓ {checkpoint.name} → {dest}\")\n",
    "        \n",
    "        print(f\"\\n✅ {len(checkpoints)} 個のモデルを Google Drive に保存しました\")\n",
    "        print(f\"保存先: {DRIVE_OUTPUT_DIR}\")\n",
    "    else:\n",
    "        print(\"⚠️ チェックポイントが見つかりません\")\n",
    "else:\n",
    "    print(\"⚠️ models/pretrained ディレクトリが見つかりません\")"
   ]
  },
  {
   "cell_type": "markdown",
   "id": "6e256da9",
   "metadata": {},
   "source": [
    "## 🧪 Step 8: 学習済みモデルのテスト"
   ]
  },
  {
   "cell_type": "code",
   "execution_count": null,
   "id": "6a0016b7",
   "metadata": {},
   "outputs": [],
   "source": [
    "# テスト画像で推論\n",
    "test_image = sorted(glob.glob(f\"{LOCAL_DATA_DIR}/train/watermarked/*.png\"))[0]\n",
    "best_model = sorted(glob.glob(\"models/pretrained/*_best.pth\"))\n",
    "\n",
    "if best_model:\n",
    "    best_model = best_model[-1]\n",
    "    print(f\"使用モデル: {best_model}\")\n",
    "    \n",
    "    !python src/main.py \\\n",
    "      -i {test_image} \\\n",
    "      -o output/test_result.png \\\n",
    "      --method ai \\\n",
    "      --model {best_model} \\\n",
    "      --save-comparison\n",
    "    \n",
    "    # 結果を表示\n",
    "    if Path(\"output/test_result_comparison.png\").exists():\n",
    "        result_img = Image.open(\"output/test_result_comparison.png\")\n",
    "        plt.figure(figsize=(15, 8))\n",
    "        plt.imshow(result_img)\n",
    "        plt.axis('off')\n",
    "        plt.title(\"左: オリジナル | 右: ウォーターマーク除去後\")\n",
    "        plt.show()\n",
    "else:\n",
    "    print(\"⚠️ 学習済みモデルが見つかりません。Step 5を実行してください。\")"
   ]
  },
  {
   "cell_type": "markdown",
   "id": "d08b0b12",
   "metadata": {},
   "source": [
    "## 📥 Step 9: モデルをローカルにダウンロード（オプション）"
   ]
  },
  {
   "cell_type": "code",
   "execution_count": null,
   "id": "d0bc7373",
   "metadata": {},
   "outputs": [],
   "source": [
    "# モデルファイルを圧縮\n",
    "!zip -r trained_models.zip models/pretrained/*.pth\n",
    "\n",
    "print(\"✓ モデルを trained_models.zip に圧縮しました\")\n",
    "print(\"左のファイルブラウザからダウンロードできます\")\n",
    "\n",
    "# または Google Drive から直接ダウンロード可能\n",
    "print(f\"\\nまたは Google Drive から: {DRIVE_OUTPUT_DIR}\")"
   ]
  },
  {
   "cell_type": "markdown",
   "id": "9a0f8653",
   "metadata": {},
   "source": [
    "## 🎉 完了！\n",
    "\n",
    "### 次のステップ\n",
    "\n",
    "1. **モデルをダウンロード**: Google Drive または上記の zip ファイルから\n",
    "2. **ローカルで使用**: \n",
    "   ```bash\n",
    "   python src/main.py \\\n",
    "     -i input.png \\\n",
    "     -o output.png \\\n",
    "     --method ai \\\n",
    "     --model path/to/your/model.pth \\\n",
    "     --auto-detect\n",
    "   ```\n",
    "\n",
    "### 学習結果が良くない場合\n",
    "\n",
    "- ✅ より多くのデータで学習（推奨: 2000枚以上）\n",
    "- ✅ エポック数を増やす（100-200）\n",
    "- ✅ より多様なウォーターマークを使用\n",
    "- ✅ データ品質を確認\n",
    "\n",
    "### 学習を中断した場合\n",
    "\n",
    "チェックポイントから再開できます:\n",
    "```python\n",
    "!python src/train.py \\\n",
    "  --clean-dir {LOCAL_DATA_DIR}/train/clean \\\n",
    "  --watermarked-dir {LOCAL_DATA_DIR}/train/watermarked \\\n",
    "  --resume models/pretrained/checkpoint_epoch_XX.pth \\\n",
    "  --epochs 100\n",
    "```\n",
    "\n",
    "詳細は [TRAINING.md](https://github.com/joppii/watermark/blob/main/TRAINING.md) を参照してください。"
   ]
  }
 ],
 "metadata": {
  "language_info": {
   "name": "python"
  }
 },
 "nbformat": 4,
 "nbformat_minor": 5
}
