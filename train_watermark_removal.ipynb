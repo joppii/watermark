{
 "cells": [
  {
   "cell_type": "markdown",
   "id": "a42a61f6",
   "metadata": {},
   "source": [
    "# 🎨 AI Watermark Remover - Training on Google Colab\n",
    "\n",
    "このノートブックを使用して、Google ColabのGPUで高速にモデルを学習できます。\n",
    "\n",
    "**重要**: ランタイム → ランタイムのタイプを変更 → GPU (T4) を選択してください"
   ]
  },
  {
   "cell_type": "markdown",
   "id": "e2acf942",
   "metadata": {},
   "source": [
    "## 📦 Step 1: セットアップ"
   ]
  },
  {
   "cell_type": "code",
   "execution_count": null,
   "id": "69ca3cb1",
   "metadata": {},
   "outputs": [],
   "source": [
    "# リポジトリをクローン\n",
    "!git clone https://github.com/joppii/watermark.git\n",
    "%cd watermark"
   ]
  },
  {
   "cell_type": "code",
   "execution_count": null,
   "id": "aa00079d",
   "metadata": {},
   "outputs": [],
   "source": [
    "# 依存関係をインストール\n",
    "!pip install -q torch torchvision numpy opencv-python Pillow scikit-image scipy tqdm tensorboard PyYAML colorama"
   ]
  },
  {
   "cell_type": "code",
   "execution_count": null,
   "id": "8d7372f5",
   "metadata": {},
   "outputs": [],
   "source": [
    "# GPU確認\n",
    "import torch\n",
    "print(f\"CUDA available: {torch.cuda.is_available()}\")\n",
    "if torch.cuda.is_available():\n",
    "    print(f\"GPU: {torch.cuda.get_device_name(0)}\")\n",
    "    print(f\"GPU Memory: {torch.cuda.get_device_properties(0).total_memory / 1e9:.2f} GB\")\n",
    "else:\n",
    "    print(\"⚠️ GPU not available! Please enable GPU in Runtime settings.\")"
   ]
  },
  {
   "cell_type": "markdown",
   "id": "eed4c30a",
   "metadata": {},
   "source": [
    "## 📁 Step 2: データのアップロード\n",
    "\n",
    "以下の3つの方法から選択してください"
   ]
  },
  {
   "cell_type": "markdown",
   "id": "3b53e3b2",
   "metadata": {},
   "source": [
    "### 方法1: Google Driveから（推奨）"
   ]
  },
  {
   "cell_type": "code",
   "execution_count": null,
   "id": "38f8a41d",
   "metadata": {},
   "outputs": [],
   "source": [
    "# Google Driveをマウント\n",
    "from google.colab import drive\n",
    "drive.mount('/content/drive')\n",
    "\n",
    "# データをコピー（事前にDriveの「MyDrive/watermark_images/」に画像を配置）\n",
    "!mkdir -p data/original\n",
    "!cp -r /content/drive/MyDrive/watermark_images/* data/original/\n",
    "\n",
    "# 画像数を確認\n",
    "import glob\n",
    "images = glob.glob('data/original/**/*.png', recursive=True) + glob.glob('data/original/**/*.jpg', recursive=True)\n",
    "print(f\"✓ {len(images)} images loaded\")"
   ]
  },
  {
   "cell_type": "markdown",
   "id": "ed3fb35b",
   "metadata": {},
   "source": [
    "### 方法2: Zipファイルをアップロード"
   ]
  },
  {
   "cell_type": "code",
   "execution_count": null,
   "id": "76a614e0",
   "metadata": {},
   "outputs": [],
   "source": [
    "from google.colab import files\n",
    "import zipfile\n",
    "import os\n",
    "\n",
    "# Zipファイルをアップロード\n",
    "print(\"画像のZipファイルを選択してください...\")\n",
    "uploaded = files.upload()\n",
    "\n",
    "# 解凍\n",
    "!mkdir -p data/original\n",
    "for filename in uploaded.keys():\n",
    "    if filename.endswith('.zip'):\n",
    "        with zipfile.ZipFile(filename, 'r') as zip_ref:\n",
    "            zip_ref.extractall('data/original/')\n",
    "        print(f\"✓ {filename} extracted\")\n",
    "\n",
    "# 画像数を確認\n",
    "import glob\n",
    "images = glob.glob('data/original/**/*.png', recursive=True) + glob.glob('data/original/**/*.jpg', recursive=True)\n",
    "print(f\"✓ {len(images)} images loaded\")"
   ]
  },
  {
   "cell_type": "markdown",
   "id": "de73d49d",
   "metadata": {},
   "source": [
    "### 方法3: サンプルデータで試す（テスト用）"
   ]
  },
  {
   "cell_type": "code",
   "execution_count": null,
   "id": "de1242be",
   "metadata": {},
   "outputs": [],
   "source": [
    "# サンプル画像をコピー（テスト用）\n",
    "!mkdir -p data/original\n",
    "!cp sample/image.png data/original/test_001.png\n",
    "# 同じ画像を複製してテスト\n",
    "for i in range(2, 11):\n",
    "    !cp sample/image.png data/original/test_{i:03d}.png\n",
    "\n",
    "!ls -l data/original/"
   ]
  },
  {
   "cell_type": "markdown",
   "id": "8a7c0876",
   "metadata": {},
   "source": [
    "## 🎯 Step 3: ウォーターマークを作成"
   ]
  },
  {
   "cell_type": "code",
   "execution_count": null,
   "id": "5f078894",
   "metadata": {},
   "outputs": [],
   "source": [
    "# テキストウォーターマークを作成\n",
    "!python src/prepare_data.py text -t \"SAMPLE\" -o data/watermarks/sample -n 15\n",
    "!python src/prepare_data.py text -t \"COPYRIGHT\" -o data/watermarks/copyright -n 15\n",
    "\n",
    "print(\"✓ Watermarks created\")\n",
    "!ls data/watermarks/*/"
   ]
  },
  {
   "cell_type": "markdown",
   "id": "40f5dedd",
   "metadata": {},
   "source": [
    "## 🔨 Step 4: 合成学習データを生成"
   ]
  },
  {
   "cell_type": "code",
   "execution_count": null,
   "id": "a68986e7",
   "metadata": {},
   "outputs": [],
   "source": [
    "# 合成データセットを生成（各画像から3つのバリエーション）\n",
    "!python src/prepare_data.py synthetic \\\n",
    "  -i data/original \\\n",
    "  --output-clean data/train/clean \\\n",
    "  --output-watermarked data/train/watermarked \\\n",
    "  -w data/watermarks/*/*.png \\\n",
    "  -n 3\n",
    "\n",
    "# 生成されたデータを確認\n",
    "import glob\n",
    "clean = glob.glob('data/train/clean/*.png')\n",
    "watermarked = glob.glob('data/train/watermarked/*.png')\n",
    "print(f\"\\n✓ Training data prepared:\")\n",
    "print(f\"  Clean images: {len(clean)}\")\n",
    "print(f\"  Watermarked images: {len(watermarked)}\")"
   ]
  },
  {
   "cell_type": "markdown",
   "id": "7582f1c1",
   "metadata": {},
   "source": [
    "## 🚀 Step 5: モデル学習を開始"
   ]
  },
  {
   "cell_type": "code",
   "execution_count": null,
   "id": "07abf28d",
   "metadata": {},
   "outputs": [],
   "source": [
    "# 学習開始（GPU使用）\n",
    "# バッチサイズは16-32に増やせます（GPU使用時）\n",
    "!python src/train.py \\\n",
    "  --clean-dir data/train/clean \\\n",
    "  --watermarked-dir data/train/watermarked \\\n",
    "  --epochs 100 \\\n",
    "  --batch-size 16 \\\n",
    "  --val-split 0.1"
   ]
  },
  {
   "cell_type": "markdown",
   "id": "432bd78d",
   "metadata": {},
   "source": [
    "## 📊 Step 6: TensorBoardで学習を監視（オプション）"
   ]
  },
  {
   "cell_type": "code",
   "execution_count": null,
   "id": "15d660bf",
   "metadata": {},
   "outputs": [],
   "source": [
    "# TensorBoardを起動\n",
    "%load_ext tensorboard\n",
    "%tensorboard --logdir runs/watermark_removal"
   ]
  },
  {
   "cell_type": "markdown",
   "id": "00e6eabd",
   "metadata": {},
   "source": [
    "## 💾 Step 7: 学習済みモデルを保存"
   ]
  },
  {
   "cell_type": "code",
   "execution_count": null,
   "id": "b53b23fd",
   "metadata": {},
   "outputs": [],
   "source": [
    "# 最良モデルを確認\n",
    "!ls -lh models/pretrained/*best.pth\n",
    "\n",
    "# Google Driveに保存\n",
    "!cp models/pretrained/*best.pth /content/drive/MyDrive/watermark_model_best.pth\n",
    "print(\"✓ Model saved to Google Drive!\")"
   ]
  },
  {
   "cell_type": "code",
   "execution_count": null,
   "id": "b20d48c6",
   "metadata": {},
   "outputs": [],
   "source": [
    "# またはローカルにダウンロード\n",
    "from google.colab import files\n",
    "import glob\n",
    "\n",
    "best_models = glob.glob('models/pretrained/*best.pth')\n",
    "if best_models:\n",
    "    files.download(best_models[0])\n",
    "    print(f\"✓ Downloading: {best_models[0]}\")"
   ]
  },
  {
   "cell_type": "markdown",
   "id": "34c9afc2",
   "metadata": {},
   "source": [
    "## 🧪 Step 8: 学習済みモデルをテスト"
   ]
  },
  {
   "cell_type": "code",
   "execution_count": null,
   "id": "90d75ef3",
   "metadata": {},
   "outputs": [],
   "source": [
    "# サンプル画像でテスト\n",
    "import glob\n",
    "\n",
    "best_model = glob.glob('models/pretrained/*best.pth')[0]\n",
    "print(f\"Using model: {best_model}\")\n",
    "\n",
    "!python src/main.py \\\n",
    "  -i sample/image.png \\\n",
    "  -o output/result_ai.png \\\n",
    "  --method ai \\\n",
    "  --model {best_model} \\\n",
    "  --auto-detect \\\n",
    "  --save-comparison"
   ]
  },
  {
   "cell_type": "code",
   "execution_count": null,
   "id": "548747c1",
   "metadata": {},
   "outputs": [],
   "source": [
    "# 結果を表示\n",
    "from IPython.display import Image, display\n",
    "import os\n",
    "\n",
    "if os.path.exists('output/result_ai_comparison.png'):\n",
    "    display(Image('output/result_ai_comparison.png'))\n",
    "else:\n",
    "    print(\"Comparison image not found. Showing result...\")\n",
    "    display(Image('output/result_ai.png'))"
   ]
  },
  {
   "cell_type": "markdown",
   "id": "4b27e197",
   "metadata": {},
   "source": [
    "## 🔄 学習を再開する場合"
   ]
  },
  {
   "cell_type": "code",
   "execution_count": null,
   "id": "0211ae18",
   "metadata": {},
   "outputs": [],
   "source": [
    "# チェックポイントから再開\n",
    "# (Colabセッションが切れた場合など)\n",
    "!python src/train.py \\\n",
    "  --clean-dir data/train/clean \\\n",
    "  --watermarked-dir data/train/watermarked \\\n",
    "  --resume /content/drive/MyDrive/checkpoint_epoch_50.pth \\\n",
    "  --epochs 100 \\\n",
    "  --batch-size 16"
   ]
  },
  {
   "cell_type": "markdown",
   "id": "306d97ef",
   "metadata": {},
   "source": [
    "---\n",
    "\n",
    "## 📝 メモ\n",
    "\n",
    "- **GPU使用時のバッチサイズ**: 16-32推奨\n",
    "- **メモリエラー時**: batch_sizeを8に下げる\n",
    "- **学習時間**: 800枚×100エポック = 約15-25分（T4 GPU）\n",
    "- **無料版の制限**: 最大12時間/セッション\n",
    "\n",
    "詳細は [COLAB_GUIDE.md](COLAB_GUIDE.md) を参照"
   ]
  }
 ],
 "metadata": {
  "language_info": {
   "name": "python"
  }
 },
 "nbformat": 4,
 "nbformat_minor": 5
}
